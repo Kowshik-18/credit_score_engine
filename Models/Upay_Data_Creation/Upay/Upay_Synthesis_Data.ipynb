{
 "cells": [
  {
   "cell_type": "code",
   "execution_count": 64,
   "id": "357924fd",
   "metadata": {},
   "outputs": [],
   "source": [
    "import pandas as pd\n",
    "from faker import Faker\n",
    "import random\n",
    "import string\n",
    "from datetime import datetime, timedelta"
   ]
  },
  {
   "cell_type": "code",
   "execution_count": 65,
   "id": "202b0d7e",
   "metadata": {},
   "outputs": [],
   "source": [
    "faker = Faker()\n",
    "\n",
    "transaction_probabilities = {\n",
    "    'Cash In': 0.4,\n",
    "    'Cash Out': 0.2,\n",
    "    'Pay Bill': 0.1,\n",
    "    'Mobile Recharge': 0.06,\n",
    "    'Donation': 0.01,\n",
    "    'Land Tax': 0.03,\n",
    "    'Make Payment': 0.3,\n",
    "    'Add Money': 0.1,\n",
    "    'Request Money': 0.01,\n",
    "    'Fund Transfer': 0.03\n",
    "}\n",
    "\n",
    "transaction_types = list(transaction_probabilities.keys())"
   ]
  },
  {
   "cell_type": "code",
   "execution_count": 66,
   "id": "e96c6277",
   "metadata": {},
   "outputs": [],
   "source": [
    "def generate_fake_data():\n",
    "    start_date = datetime.now() - timedelta(days=365)\n",
    "    end_date = datetime.now()\n",
    "    transaction_datetime = faker.date_time_between_dates(datetime_start=start_date, datetime_end=end_date)\n",
    "    transaction_type = random.choices(transaction_types, weights=transaction_probabilities.values())[0]\n",
    "    amount = generate_amount(transaction_type)\n",
    "    transaction_id = generate_transaction_id()\n",
    "    \n",
    "    return transaction_datetime, transaction_type, amount, transaction_id"
   ]
  },
  {
   "cell_type": "code",
   "execution_count": 67,
   "id": "d8291fea",
   "metadata": {},
   "outputs": [],
   "source": [
    "def generate_amount(transaction_type):\n",
    "    if transaction_type in ['Cash In', 'Add Money']:\n",
    "        return round(random.uniform(50, 10000), 2)\n",
    "    elif transaction_type == 'Cash Out':\n",
    "        return round(random.uniform(25, 8000), 2)\n",
    "    elif transaction_type == 'Pay Bill':\n",
    "        return round(random.uniform(800, 4000), 2)\n",
    "    elif transaction_type == 'Mobile Recharge':\n",
    "        return round(random.uniform(20, 200), 2)\n",
    "    elif transaction_type == 'Donation':\n",
    "        return round(random.uniform(50, 200), 2)\n",
    "    elif transaction_type in ['Land Tax', 'DNCC Holding Tax']:\n",
    "        return round(random.uniform(2000, 8000), 2)\n",
    "    elif transaction_type == 'Make Payment':\n",
    "        return round(random.uniform(200, 4000), 2)\n",
    "    elif transaction_type == 'Request Money':\n",
    "        return round(random.uniform(200, 500), 2)\n",
    "    elif transaction_type == 'Fund Transfer':\n",
    "        return round(random.uniform(2000, 20000), 2)"
   ]
  },
  {
   "cell_type": "code",
   "execution_count": 68,
   "id": "d47c400e",
   "metadata": {},
   "outputs": [],
   "source": [
    "def generate_transaction_id():\n",
    "    random_chars = ''.join(random.choice(string.ascii_uppercase + string.digits) for _ in range(9))\n",
    "    return f\"#01{random_chars}\""
   ]
  },
  {
   "cell_type": "code",
   "execution_count": 72,
   "id": "2248ab4b",
   "metadata": {},
   "outputs": [],
   "source": [
    "# Generate random number of transactions for the customer in a year\n",
    "num_transactions = random.randint(1, 200)\n",
    "data = []\n",
    "\n",
    "for _ in range(num_transactions):\n",
    "    transaction_datetime, transaction_type, amount, transaction_id = generate_fake_data()\n",
    "    data.append([transaction_datetime, transaction_type, amount, transaction_id])"
   ]
  },
  {
   "cell_type": "code",
   "execution_count": 73,
   "id": "e6b2511e",
   "metadata": {},
   "outputs": [
    {
     "name": "stdout",
     "output_type": "stream",
     "text": [
      "   Transaction_DateTime Transaction_Type   Amount Transaction_ID\n",
      "0   2023-07-23 20:20:02     Make Payment  3924.19   #014OBHLZ3BY\n",
      "1   2022-10-19 14:41:16         Cash Out  2496.77   #01LULHBXE29\n",
      "2   2023-08-28 10:21:01          Cash In  8596.73   #01D5YEWV50O\n",
      "3   2023-05-26 21:14:15        Add Money  8533.53   #01C7WJ6VAGR\n",
      "4   2022-11-19 14:42:24          Cash In  1555.76   #01Y55MSA08L\n",
      "5   2023-03-25 01:25:08          Cash In  8545.25   #01M5FHNK6O4\n",
      "6   2023-01-14 17:17:06     Make Payment  1305.47   #019B1YKI4XQ\n",
      "7   2022-10-16 08:42:49          Cash In   931.91   #01QWQ6HABRH\n",
      "8   2023-06-16 04:11:37          Cash In   989.29   #0140H1SU4Q6\n",
      "9   2022-12-19 21:18:05        Add Money  7046.63   #01QRWNH4SPV\n",
      "10  2023-02-20 04:52:38        Add Money  6920.28   #0154JHV6NK3\n",
      "11  2023-06-23 11:05:32          Cash In  5202.10   #01DVR1DZZBH\n",
      "12  2023-01-22 13:43:17         Cash Out  2434.40   #01KQHPTDSNY\n",
      "13  2023-09-26 12:45:01         Cash Out  1378.51   #01JG7I2AL41\n",
      "14  2023-07-04 17:35:27          Cash In  5700.94   #018EEWPQEHY\n",
      "15  2023-06-18 03:52:21         Pay Bill  3078.83   #01KTFL16UA4\n",
      "16  2023-03-18 09:28:10         Cash Out  6807.46   #01KZFBTPFPJ\n",
      "17  2022-11-13 11:23:55     Make Payment  2382.19   #01BE6XTQGSW\n",
      "18  2022-10-07 22:46:41          Cash In  7952.56   #01DBYBU8BBO\n",
      "19  2023-09-20 04:53:58          Cash In  9587.64   #01JXCP8W8WR\n",
      "20  2023-08-21 00:09:10     Make Payment  3293.57   #018WZURVTPT\n",
      "21  2022-10-08 01:42:40          Cash In  4476.39   #01GQO44G713\n",
      "22  2023-06-12 04:12:57         Cash Out  6954.24   #018IT2TBVPD\n",
      "23  2023-04-28 14:46:14          Cash In  7274.51   #01C88ID60Q5\n",
      "24  2022-12-16 02:30:56     Make Payment  1419.50   #01Q7PII26LN\n",
      "25  2023-01-10 17:43:53          Cash In  8381.32   #01G9AZZJLTK\n",
      "26  2022-11-20 08:35:28         Land Tax  4252.77   #01IDCC9B69F\n",
      "27  2023-01-12 20:15:07  Mobile Recharge   197.31   #01T36YKFOHJ\n",
      "28  2023-05-07 06:49:10         Cash Out  4722.67   #01FC5MEGDA7\n",
      "29  2023-01-07 22:46:41         Land Tax  4624.46   #01TFBC811QH\n",
      "30  2023-09-06 11:28:09     Make Payment  1222.93   #017J8MS3I6J\n",
      "31  2023-01-25 21:21:04          Cash In  9015.20   #01DNL62TXB2\n",
      "32  2023-07-29 03:08:15  Mobile Recharge    83.93   #015M046883F\n",
      "33  2023-02-03 06:24:41         Cash Out  2521.10   #01EN6TTKNVT\n",
      "34  2023-05-23 21:34:17          Cash In  2654.98   #01NR8R0ZCQK\n",
      "35  2023-08-31 09:28:28        Add Money   219.39   #01VIHOQBSYW\n",
      "36  2022-12-15 01:46:02          Cash In  7924.22   #0137HTPX43L\n",
      "37  2022-12-07 19:56:04         Cash Out   829.14   #01F0T0V7X6P\n",
      "38  2023-08-27 17:10:02          Cash In  8077.45   #01BWFSM6OGQ\n",
      "39  2022-12-12 03:08:28         Cash Out  6508.14   #01X10TGR8FC\n",
      "40  2023-01-29 13:40:54     Make Payment  1211.98   #011OZSBY0VH\n",
      "41  2023-09-20 11:54:54         Donation   149.13   #010QCUFQU29\n",
      "42  2023-03-14 09:10:30     Make Payment  2043.01   #01RB7SHYM7I\n",
      "43  2022-11-15 00:01:21  Mobile Recharge   151.20   #01VP377QEX5\n",
      "44  2023-08-29 08:28:04          Cash In  2340.12   #01FWR65CLHR\n",
      "45  2023-07-27 00:50:33         Cash Out  4885.28   #01CTLRCQM0Z\n",
      "46  2022-10-05 02:50:27         Cash Out  3894.79   #019A0D4SQ8B\n",
      "47  2023-05-28 06:14:19    Request Money   471.32   #01ZKVTYL89V\n",
      "48  2023-08-10 06:24:48          Cash In  3896.72   #01BMKN9KB3Q\n",
      "49  2023-02-24 14:07:59        Add Money  7992.71   #01R1J6TZZ42\n",
      "50  2023-04-02 02:39:47          Cash In  6244.67   #01099QV0UFZ\n",
      "51  2023-03-08 09:37:30     Make Payment   851.57   #01N09ZFBW85\n",
      "52  2023-05-23 04:08:09          Cash In  5087.84   #013DKAM2IAV\n"
     ]
    }
   ],
   "source": [
    "# Create a DataFrame from the collected data\n",
    "columns = [\"Transaction_DateTime\", \"Transaction_Type\", \"Amount\", \"Transaction_ID\"]\n",
    "df = pd.DataFrame(data, columns=columns)\n",
    "\n",
    "# Print the dataframe\n",
    "print(df)"
   ]
  },
  {
   "cell_type": "code",
   "execution_count": 75,
   "id": "7e142cd1",
   "metadata": {},
   "outputs": [],
   "source": [
    "csv_file_path = 'UpayData.csv'\n",
    "df.to_csv(csv_file_path, index=False, date_format='%Y-%m-%d %H:%M:%S')"
   ]
  },
  {
   "cell_type": "code",
   "execution_count": 63,
   "id": "5cdd58b5",
   "metadata": {},
   "outputs": [
    {
     "name": "stdout",
     "output_type": "stream",
     "text": [
      "#01S41YUCX0F\n",
      "#01BQK1I1N2U\n",
      "#011U02VWQDK\n",
      "#01DWFA2KR8P\n"
     ]
    }
   ],
   "source": [
    "def generate_transaction_id():\n",
    "    random_chars = ''.join(random.choice(string.ascii_uppercase + string.digits) for _ in range(9))\n",
    "    return f\"#01{random_chars}\"\n",
    "\n",
    "# Number of transaction IDs you want to generate\n",
    "num_ids = 4  # Change this to the desired number\n",
    "\n",
    "# Generate the transaction IDs\n",
    "transaction_ids = [generate_transaction_id() for _ in range(num_ids)]\n",
    "\n",
    "# Print the generated transaction IDs\n",
    "for transaction_id in transaction_ids:\n",
    "    print(transaction_id)"
   ]
  },
  {
   "cell_type": "code",
   "execution_count": null,
   "id": "e0c9f3b5",
   "metadata": {},
   "outputs": [],
   "source": []
  }
 ],
 "metadata": {
  "kernelspec": {
   "display_name": "Python 3 (ipykernel)",
   "language": "python",
   "name": "python3"
  },
  "language_info": {
   "codemirror_mode": {
    "name": "ipython",
    "version": 3
   },
   "file_extension": ".py",
   "mimetype": "text/x-python",
   "name": "python",
   "nbconvert_exporter": "python",
   "pygments_lexer": "ipython3",
   "version": "3.9.16"
  }
 },
 "nbformat": 4,
 "nbformat_minor": 5
}
